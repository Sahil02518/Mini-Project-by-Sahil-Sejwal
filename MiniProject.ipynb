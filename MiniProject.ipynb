{
  "nbformat": 4,
  "nbformat_minor": 0,
  "metadata": {
    "colab": {
      "name": "MiniProject.ipynb",
      "provenance": [],
      "collapsed_sections": [],
      "authorship_tag": "ABX9TyOQPdJ3gHc5dq8cxYdi3CnG",
      "include_colab_link": true
    },
    "kernelspec": {
      "name": "python3",
      "display_name": "Python 3"
    }
  },
  "cells": [
    {
      "cell_type": "markdown",
      "metadata": {
        "id": "view-in-github",
        "colab_type": "text"
      },
      "source": [
        "<a href=\"https://colab.research.google.com/github/Sahil02518/Mini-Project-by-Sahil-Sejwal/blob/master/MiniProject.ipynb\" target=\"_parent\"><img src=\"https://colab.research.google.com/assets/colab-badge.svg\" alt=\"Open In Colab\"/></a>"
      ]
    },
    {
      "cell_type": "code",
      "metadata": {
        "id": "_e0loHMwCkZf",
        "colab_type": "code",
        "colab": {}
      },
      "source": [
        "import numpy as np \n",
        "import pandas as pd\n",
        "import matplotlib.pyplot as plt \n",
        "import keras \n",
        "\n",
        "from sklearn.model_selection import train_test_split \n",
        "from keras.utils import to_categorical \n",
        "\n",
        "from keras.models import Sequential \n",
        "from keras.layers import Conv2D, MaxPooling2D \n",
        "from keras.layers import Dense, Dropout \n",
        "from keras.layers import Flatten, BatchNormalization\n",
        "train_df = pd.read_csv('./fashion-mnist_train.csv')\n",
        "test_df = pd.read_csv('./fashion-mnist_test.csv')\n",
        "train_df.head()\n",
        "train_data = np.array(train_df.iloc[:, 1:])\n",
        "test_data = np.array(test_df.iloc[:, 1:])\n",
        "train_labels = to_categorical(train_df.iloc[:, 0])\n",
        "test_labels = to_categorical(test_df.iloc[:, 0])\n",
        "rows, cols = 28, 28 \n",
        "\n",
        "train_data = train_data.reshape(train_data.shape[0], rows, cols, 1)\n",
        "test_data = test_data.reshape(test_data.shape[0], rows, cols, 1)\n",
        "\n",
        "train_data = train_data.astype('float32')\n",
        "test_data = test_data.astype('float32')\n",
        "train_data /= 255.0\n",
        "test_data /= 255.0\n",
        "train_x, val_x, train_y, val_y = train_test_split(train_data, train_labels, test_size=0.2)\n",
        "\n",
        "batch_size = 256\n",
        "epochs = 5\n",
        "input_shape = (rows, cols, 1)\n",
        "def baseline_model():\n",
        "    model = Sequential()\n",
        "    model.add(BatchNormalization(input_shape=input_shape))\n",
        "    model.add(Conv2D(32, (3, 3), padding='same', activation='relu'))\n",
        "    model.add(MaxPooling2D(pool_size=(2, 2), strides=(2,2)))\n",
        "    model.add(Dropout(0.25))\n",
        "    \n",
        "    model.add(BatchNormalization())\n",
        "    model.add(Conv2D(32, (3, 3), padding='same', activation='relu'))\n",
        "    model.add(MaxPooling2D(pool_size=(2, 2)))\n",
        "    model.add(Dropout(0.25))\n",
        "\n",
        "    model.add(Flatten())\n",
        "    model.add(Dense(128, activation='relu'))\n",
        "    model.add(Dropout(0.5))\n",
        "    model.add(Dense(10, activation='softmax'))\n",
        "    return model\n",
        "model = baseline_model()\n",
        "model.compile(loss='categorical_crossentropy', optimizer='sgd', metrics=['accuracy'])\n",
        "history = model.fit(train_x, train_y,\n",
        "          batch_size=batch_size,\n",
        "          epochs=epochs,\n",
        "          verbose=1,\n",
        "          validation_data=(val_x, val_y))\n",
        "predictions= model.predict(test_data)"
      ],
      "execution_count": null,
      "outputs": []
    }
  ]
}